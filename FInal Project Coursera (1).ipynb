{
 "cells": [
  {
   "cell_type": "code",
   "execution_count": 12,
   "id": "1e5bdf9a",
   "metadata": {},
   "outputs": [],
   "source": [
    "import numpy as np\n",
    "import pandas as pd\n",
    "\n",
    "import statsmodels.api as sm\n",
    "\n",
    "import seaborn as sns\n",
    "import matplotlib.pyplot as plt "
   ]
  },
  {
   "cell_type": "code",
   "execution_count": 2,
   "id": "90c1977d",
   "metadata": {},
   "outputs": [],
   "source": [
    "boston_url = 'https://cf-courses-data.s3.us.cloud-object-storage.appdomain.cloud/IBMDeveloperSkillsNetwork-ST0151EN-SkillsNetwork/labs/boston_housing.csv'\n",
    "boston_df=pd.read_csv(boston_url)"
   ]
  },
  {
   "cell_type": "code",
   "execution_count": 3,
   "id": "27464dae",
   "metadata": {},
   "outputs": [
    {
     "data": {
      "text/html": [
       "<div>\n",
       "<style scoped>\n",
       "    .dataframe tbody tr th:only-of-type {\n",
       "        vertical-align: middle;\n",
       "    }\n",
       "\n",
       "    .dataframe tbody tr th {\n",
       "        vertical-align: top;\n",
       "    }\n",
       "\n",
       "    .dataframe thead th {\n",
       "        text-align: right;\n",
       "    }\n",
       "</style>\n",
       "<table border=\"1\" class=\"dataframe\">\n",
       "  <thead>\n",
       "    <tr style=\"text-align: right;\">\n",
       "      <th></th>\n",
       "      <th>Unnamed: 0</th>\n",
       "      <th>CRIM</th>\n",
       "      <th>ZN</th>\n",
       "      <th>INDUS</th>\n",
       "      <th>CHAS</th>\n",
       "      <th>NOX</th>\n",
       "      <th>RM</th>\n",
       "      <th>AGE</th>\n",
       "      <th>DIS</th>\n",
       "      <th>RAD</th>\n",
       "      <th>TAX</th>\n",
       "      <th>PTRATIO</th>\n",
       "      <th>LSTAT</th>\n",
       "      <th>MEDV</th>\n",
       "    </tr>\n",
       "  </thead>\n",
       "  <tbody>\n",
       "    <tr>\n",
       "      <th>0</th>\n",
       "      <td>0</td>\n",
       "      <td>0.00632</td>\n",
       "      <td>18.0</td>\n",
       "      <td>2.31</td>\n",
       "      <td>0.0</td>\n",
       "      <td>0.538</td>\n",
       "      <td>6.575</td>\n",
       "      <td>65.2</td>\n",
       "      <td>4.0900</td>\n",
       "      <td>1.0</td>\n",
       "      <td>296.0</td>\n",
       "      <td>15.3</td>\n",
       "      <td>4.98</td>\n",
       "      <td>24.0</td>\n",
       "    </tr>\n",
       "    <tr>\n",
       "      <th>1</th>\n",
       "      <td>1</td>\n",
       "      <td>0.02731</td>\n",
       "      <td>0.0</td>\n",
       "      <td>7.07</td>\n",
       "      <td>0.0</td>\n",
       "      <td>0.469</td>\n",
       "      <td>6.421</td>\n",
       "      <td>78.9</td>\n",
       "      <td>4.9671</td>\n",
       "      <td>2.0</td>\n",
       "      <td>242.0</td>\n",
       "      <td>17.8</td>\n",
       "      <td>9.14</td>\n",
       "      <td>21.6</td>\n",
       "    </tr>\n",
       "    <tr>\n",
       "      <th>2</th>\n",
       "      <td>2</td>\n",
       "      <td>0.02729</td>\n",
       "      <td>0.0</td>\n",
       "      <td>7.07</td>\n",
       "      <td>0.0</td>\n",
       "      <td>0.469</td>\n",
       "      <td>7.185</td>\n",
       "      <td>61.1</td>\n",
       "      <td>4.9671</td>\n",
       "      <td>2.0</td>\n",
       "      <td>242.0</td>\n",
       "      <td>17.8</td>\n",
       "      <td>4.03</td>\n",
       "      <td>34.7</td>\n",
       "    </tr>\n",
       "    <tr>\n",
       "      <th>3</th>\n",
       "      <td>3</td>\n",
       "      <td>0.03237</td>\n",
       "      <td>0.0</td>\n",
       "      <td>2.18</td>\n",
       "      <td>0.0</td>\n",
       "      <td>0.458</td>\n",
       "      <td>6.998</td>\n",
       "      <td>45.8</td>\n",
       "      <td>6.0622</td>\n",
       "      <td>3.0</td>\n",
       "      <td>222.0</td>\n",
       "      <td>18.7</td>\n",
       "      <td>2.94</td>\n",
       "      <td>33.4</td>\n",
       "    </tr>\n",
       "    <tr>\n",
       "      <th>4</th>\n",
       "      <td>4</td>\n",
       "      <td>0.06905</td>\n",
       "      <td>0.0</td>\n",
       "      <td>2.18</td>\n",
       "      <td>0.0</td>\n",
       "      <td>0.458</td>\n",
       "      <td>7.147</td>\n",
       "      <td>54.2</td>\n",
       "      <td>6.0622</td>\n",
       "      <td>3.0</td>\n",
       "      <td>222.0</td>\n",
       "      <td>18.7</td>\n",
       "      <td>5.33</td>\n",
       "      <td>36.2</td>\n",
       "    </tr>\n",
       "  </tbody>\n",
       "</table>\n",
       "</div>"
      ],
      "text/plain": [
       "   Unnamed: 0     CRIM    ZN  INDUS  CHAS    NOX     RM   AGE     DIS  RAD  \\\n",
       "0           0  0.00632  18.0   2.31   0.0  0.538  6.575  65.2  4.0900  1.0   \n",
       "1           1  0.02731   0.0   7.07   0.0  0.469  6.421  78.9  4.9671  2.0   \n",
       "2           2  0.02729   0.0   7.07   0.0  0.469  7.185  61.1  4.9671  2.0   \n",
       "3           3  0.03237   0.0   2.18   0.0  0.458  6.998  45.8  6.0622  3.0   \n",
       "4           4  0.06905   0.0   2.18   0.0  0.458  7.147  54.2  6.0622  3.0   \n",
       "\n",
       "     TAX  PTRATIO  LSTAT  MEDV  \n",
       "0  296.0     15.3   4.98  24.0  \n",
       "1  242.0     17.8   9.14  21.6  \n",
       "2  242.0     17.8   4.03  34.7  \n",
       "3  222.0     18.7   2.94  33.4  \n",
       "4  222.0     18.7   5.33  36.2  "
      ]
     },
     "execution_count": 3,
     "metadata": {},
     "output_type": "execute_result"
    }
   ],
   "source": [
    "boston_df.head()"
   ]
  },
  {
   "cell_type": "code",
   "execution_count": 7,
   "id": "21ef1d0a",
   "metadata": {},
   "outputs": [
    {
     "name": "stdout",
     "output_type": "stream",
     "text": [
      "     Unnamed: 0     CRIM    ZN  INDUS  CHAS    NOX     RM   AGE     DIS  RAD  \\\n",
      "0             0  0.00632  18.0   2.31   0.0  0.538  6.575  65.2  4.0900  1.0   \n",
      "1             1  0.02731   0.0   7.07   0.0  0.469  6.421  78.9  4.9671  2.0   \n",
      "2             2  0.02729   0.0   7.07   0.0  0.469  7.185  61.1  4.9671  2.0   \n",
      "3             3  0.03237   0.0   2.18   0.0  0.458  6.998  45.8  6.0622  3.0   \n",
      "4             4  0.06905   0.0   2.18   0.0  0.458  7.147  54.2  6.0622  3.0   \n",
      "..          ...      ...   ...    ...   ...    ...    ...   ...     ...  ...   \n",
      "501         501  0.06263   0.0  11.93   0.0  0.573  6.593  69.1  2.4786  1.0   \n",
      "502         502  0.04527   0.0  11.93   0.0  0.573  6.120  76.7  2.2875  1.0   \n",
      "503         503  0.06076   0.0  11.93   0.0  0.573  6.976  91.0  2.1675  1.0   \n",
      "504         504  0.10959   0.0  11.93   0.0  0.573  6.794  89.3  2.3889  1.0   \n",
      "505         505  0.04741   0.0  11.93   0.0  0.573  6.030  80.8  2.5050  1.0   \n",
      "\n",
      "       TAX  PTRATIO  LSTAT  MEDV  \n",
      "0    296.0     15.3   4.98  24.0  \n",
      "1    242.0     17.8   9.14  21.6  \n",
      "2    242.0     17.8   4.03  34.7  \n",
      "3    222.0     18.7   2.94  33.4  \n",
      "4    222.0     18.7   5.33  36.2  \n",
      "..     ...      ...    ...   ...  \n",
      "501  273.0     21.0   9.67  22.4  \n",
      "502  273.0     21.0   9.08  20.6  \n",
      "503  273.0     21.0   5.64  23.9  \n",
      "504  273.0     21.0   6.48  22.0  \n",
      "505  273.0     21.0   7.88  11.9  \n",
      "\n",
      "[506 rows x 14 columns]\n"
     ]
    }
   ],
   "source": [
    "print(boston_df)"
   ]
  },
  {
   "cell_type": "code",
   "execution_count": 8,
   "id": "a7569267",
   "metadata": {},
   "outputs": [
    {
     "data": {
      "image/png": "[encoded data removed]",
      "text/plain": [
       "<Figure size 640x480 with 1 Axes>"
      ]
     },
     "metadata": {},
     "output_type": "display_data"
    }
   ],
   "source": [
    "a = boston_df.boxplot(['MEDV'])"
   ]
  },
  {
   "cell_type": "code",
   "execution_count": 16,
   "id": "b78cecbd",
   "metadata": {},
   "outputs": [
    {
     "data": {
      "text/plain": [
       "<seaborn.axisgrid.FacetGrid at 0x24b94e619d0>"
      ]
     },
     "execution_count": 16,
     "metadata": {},
     "output_type": "execute_result"
    }
   ],
   "source": [
    "a = sns.catplot(x='CHAS', kind='count', data = boston_df)\n",
    "a\n"
   ]
  },
  {
   "cell_type": "code",
   "execution_count": 10,
   "id": "a4b65582",
   "metadata": {},
   "outputs": [],
   "source": [
    "import matplotlib.pyplot as plt"
   ]
  },
  {
   "cell_type": "code",
   "execution_count": 17,
   "id": "7e5c1148",
   "metadata": {},
   "outputs": [
    {
     "data": {
      "image/png": "[encoded data removed]",
      "text/plain": [
       "<Figure size 500x500 with 1 Axes>"
      ]
     },
     "metadata": {},
     "output_type": "display_data"
    },
    {
     "data": {
      "image/png": "[encoded data removed]",
      "text/plain": [
       "<Figure size 500x500 with 1 Axes>"
      ]
     },
     "metadata": {},
     "output_type": "display_data"
    },
    {
     "data": {
      "image/png": "[encoded data removed]",
      "text/plain": [
       "<Figure size 500x500 with 1 Axes>"
      ]
     },
     "metadata": {},
     "output_type": "display_data"
    }
   ],
   "source": [
    "plt.show()"
   ]
  },
  {
   "cell_type": "code",
   "execution_count": 27,
   "id": "4dc0fc26",
   "metadata": {},
   "outputs": [],
   "source": [
    "boston_df.loc[(boston_df['AGE']<=35), 'age_group'] == '35 years and younger'\n",
    "boston_df.loc[(boston_df['AGE']>35)&(boston_df['AGE']<70), 'age_group'] == '35 years to 70 years'\n",
    "boston_df.loc[(boston_df['AGE']>=70), 'age_group'] == '70 years and older'\n",
    "\n",
    "x = sns.boxplot(x = 'age_group', y = 'MEDV', data = boston_df)"
   ]
  },
  {
   "cell_type": "code",
   "execution_count": 32,
   "id": "d123fe10",
   "metadata": {},
   "outputs": [
    {
     "data": {
      "image/png": "[encoded data removed]",
      "text/plain": [
       "<Figure size 640x480 with 1 Axes>"
      ]
     },
     "metadata": {},
     "output_type": "display_data"
    }
   ],
   "source": [
    "plt.show(x)"
   ]
  },
  {
   "cell_type": "code",
   "execution_count": 34,
   "id": "62c4371a",
   "metadata": {},
   "outputs": [],
   "source": [
    "ax = sns.scatterplot(x='NOX',y='INDUS',data = boston_df)"
   ]
  },
  {
   "cell_type": "code",
   "execution_count": 35,
   "id": "3734af51",
   "metadata": {},
   "outputs": [
    {
     "data": {
      "image/png": "[encoded data removed]",
      "text/plain": [
       "<Figure size 640x480 with 1 Axes>"
      ]
     },
     "metadata": {},
     "output_type": "display_data"
    }
   ],
   "source": [
    "plt.show(ax)"
   ]
  },
  {
   "cell_type": "code",
   "execution_count": 42,
   "id": "ffe252f9",
   "metadata": {},
   "outputs": [
    {
     "data": {
      "image/png": "[encoded data removed]",
      "text/plain": [
       "<Figure size 500x500 with 1 Axes>"
      ]
     },
     "metadata": {},
     "output_type": "display_data"
    }
   ],
   "source": [
    "i = sns.displot(boston_df['PTRATIO'],kde=False)\n",
    "plt.show(i)"
   ]
  },
  {
   "cell_type": "code",
   "execution_count": 43,
   "id": "01972d4f",
   "metadata": {},
   "outputs": [],
   "source": [
    "    import scipy.stats"
   ]
  },
  {
   "cell_type": "code",
   "execution_count": 44,
   "id": "ef02860e",
   "metadata": {},
   "outputs": [
    {
     "data": {
      "text/plain": [
       "LeveneResult(statistic=8.75190489604598, pvalue=0.003238119367639829)"
      ]
     },
     "execution_count": 44,
     "metadata": {},
     "output_type": "execute_result"
    }
   ],
   "source": [
    "#Is there a significant difference in median value of houses bounded by the Charles river or not?\n",
    "#Hypothesis:\n",
    "#H0: µ1 = µ2(\"there is no difference in median value of houses bounded by the Charles river\")\n",
    "#H1: µ1 != µ2(\"there is a difference in median value of houses bounded by the Charles river\")\n",
    "scipy.stats.levene(boston_df[boston_df['CHAS']==0]['MEDV'],\n",
    "                  boston_df[boston_df['CHAS']==1]['MEDV'], center = 'mean' )   "
   ]
  },
  {
   "cell_type": "code",
   "execution_count": 46,
   "id": "88b192ca",
   "metadata": {},
   "outputs": [
    {
     "data": {
      "text/plain": [
       "Ttest_indResult(statistic=-3.113291312794837, pvalue=0.003567170098137517)"
      ]
     },
     "execution_count": 46,
     "metadata": {},
     "output_type": "execute_result"
    }
   ],
   "source": [
    "# since the p-value < 0.05, we can't not assume the equality of variance\n",
    "scipy.stats.ttest_ind(boston_df[boston_df['CHAS'] == 0]['MEDV'],\n",
    "                   boston_df[boston_df['CHAS'] == 1]['MEDV'], equal_var = False)"
   ]
  },
  {
   "cell_type": "code",
   "execution_count": 47,
   "id": "85cce95c",
   "metadata": {},
   "outputs": [],
   "source": [
    "# Since the p-value is less than 0.05 we reject the null hypothesis as there is enough proof that there is a statistical \n",
    "# difference in Median value of owner-occupied homes based on Charles river variable\n"
   ]
  },
  {
   "cell_type": "code",
   "execution_count": null,
   "id": "05e06b22",
   "metadata": {},
   "outputs": [],
   "source": [
    "#Is there a difference in Median values of houses (MEDV) for each proportion of owner occupied units built prior to 1940 (AGE)?"
   ]
  },
  {
   "cell_type": "code",
   "execution_count": 48,
   "id": "e181ee4d",
   "metadata": {},
   "outputs": [],
   "source": [
    "# Hypothesis:\n",
    "# H0: µ1=µ2=µ3(the three means are equal)\n",
    "# H1: At least one of the means differ"
   ]
  },
  {
   "cell_type": "code",
   "execution_count": 62,
   "id": "a03c09e7",
   "metadata": {},
   "outputs": [
    {
     "data": {
      "text/plain": [
       "LeveneResult(statistic=nan, pvalue=nan)"
      ]
     },
     "execution_count": 62,
     "metadata": {},
     "output_type": "execute_result"
    }
   ],
   "source": [
    "scipy.stats.levene(boston_df[boston_df['age_group'] == '35 years and younger']['MEDV'],\n",
    "                   boston_df[boston_df['age_group'] == 'between 35 and 70 years']['MEDV'],\n",
    "                   boston_df[boston_df['age_group'] == '70 years and older']['MEDV'],\n",
    "                   center = 'mean')"
   ]
  },
  {
   "cell_type": "code",
   "execution_count": 55,
   "id": "7fd1415a",
   "metadata": {},
   "outputs": [],
   "source": [
    "thirtyfive_lower = boston_df[boston_df['age_group'] == '35 years and younger']['MEDV']\n",
    "thirtyfive_seventy = boston_df[boston_df['age_group'] == 'between 35 and 70 years']['MEDV']\n",
    "seventy_older = boston_df[boston_df['age_group'] == '70 years and older']['MEDV']"
   ]
  },
  {
   "cell_type": "code",
   "execution_count": 53,
   "id": "b28146a1",
   "metadata": {},
   "outputs": [
    {
     "name": "stdout",
     "output_type": "stream",
     "text": [
      "F_Statistic: 36.40764999196599, P-Value: 1.7105011022702984e-15\n"
     ]
    }
   ],
   "source": [
    "f_statistic, p_value = scipy.stats.f_oneway(thirtyfive_lower, thirtyfive_seventy, seventy_older)\n",
    "print(\"F_Statistic: {0}, P-Value: {1}\".format(f_statistic,p_value))"
   ]
  },
  {
   "cell_type": "code",
   "execution_count": null,
   "id": "6359390b",
   "metadata": {},
   "outputs": [],
   "source": [
    "#Conclusion: Since the p-value is less than 0.05, we reject the null hypothesis as there is a significant evidence that \n",
    "#at least one of the means differ."
   ]
  },
  {
   "cell_type": "code",
   "execution_count": 63,
   "id": "078eef06",
   "metadata": {},
   "outputs": [],
   "source": [
    "# Can we conclude that there is no relationship between Nitric oxide concentrations\n",
    "# and proportion of non-retail business acres per town?"
   ]
  },
  {
   "cell_type": "code",
   "execution_count": 64,
   "id": "21654d92",
   "metadata": {},
   "outputs": [],
   "source": [
    "# Hypothesis:\n",
    "# H0: both does not correlate\n",
    "# H1: both correlate"
   ]
  },
  {
   "cell_type": "code",
   "execution_count": 65,
   "id": "26e36e90",
   "metadata": {},
   "outputs": [
    {
     "data": {
      "text/plain": [
       "PearsonRResult(statistic=0.7636514469209162, pvalue=7.913361061232958e-98)"
      ]
     },
     "execution_count": 65,
     "metadata": {},
     "output_type": "execute_result"
    }
   ],
   "source": [
    "scipy.stats.pearsonr(boston_df['NOX'], boston_df['INDUS'])"
   ]
  },
  {
   "cell_type": "code",
   "execution_count": 66,
   "id": "4e9fee99",
   "metadata": {},
   "outputs": [],
   "source": [
    "#Conclusion: the p-value<0.05 so we reject the null hypothesis and conclude there exists a relationship between them."
   ]
  },
  {
   "cell_type": "code",
   "execution_count": 67,
   "id": "2b1bc6d8",
   "metadata": {},
   "outputs": [],
   "source": [
    "# What is the impact of an additional weighted distance to the five Boston employment centres\n",
    "# on the median value of owner occupied homes?"
   ]
  },
  {
   "cell_type": "code",
   "execution_count": 68,
   "id": "e6571777",
   "metadata": {},
   "outputs": [],
   "source": [
    "#Hypothesis:\n",
    "#H0: Dis is not correlated with MEDV\n",
    "#H1: Dis is correlated with MEDV"
   ]
  },
  {
   "cell_type": "code",
   "execution_count": 72,
   "id": "8ae3dea9",
   "metadata": {},
   "outputs": [
    {
     "data": {
      "text/html": [
       "<table class=\"simpletable\">\n",
       "<caption>OLS Regression Results</caption>\n",
       "<tr>\n",
       "  <th>Dep. Variable:</th>          <td>MEDV</td>       <th>  R-squared:         </th> <td>   0.062</td>\n",
       "</tr>\n",
       "<tr>\n",
       "  <th>Model:</th>                   <td>OLS</td>       <th>  Adj. R-squared:    </th> <td>   0.061</td>\n",
       "</tr>\n",
       "<tr>\n",
       "  <th>Method:</th>             <td>Least Squares</td>  <th>  F-statistic:       </th> <td>   33.58</td>\n",
       "</tr>\n",
       "<tr>\n",
       "  <th>Date:</th>             <td>Sun, 22 Oct 2023</td> <th>  Prob (F-statistic):</th> <td>1.21e-08</td>\n",
       "</tr>\n",
       "<tr>\n",
       "  <th>Time:</th>                 <td>20:12:10</td>     <th>  Log-Likelihood:    </th> <td> -1823.9</td>\n",
       "</tr>\n",
       "<tr>\n",
       "  <th>No. Observations:</th>      <td>   506</td>      <th>  AIC:               </th> <td>   3652.</td>\n",
       "</tr>\n",
       "<tr>\n",
       "  <th>Df Residuals:</th>          <td>   504</td>      <th>  BIC:               </th> <td>   3660.</td>\n",
       "</tr>\n",
       "<tr>\n",
       "  <th>Df Model:</th>              <td>     1</td>      <th>                     </th>     <td> </td>   \n",
       "</tr>\n",
       "<tr>\n",
       "  <th>Covariance Type:</th>      <td>nonrobust</td>    <th>                     </th>     <td> </td>   \n",
       "</tr>\n",
       "</table>\n",
       "<table class=\"simpletable\">\n",
       "<tr>\n",
       "    <td></td>       <th>coef</th>     <th>std err</th>      <th>t</th>      <th>P>|t|</th>  <th>[0.025</th>    <th>0.975]</th>  \n",
       "</tr>\n",
       "<tr>\n",
       "  <th>const</th> <td>   18.3901</td> <td>    0.817</td> <td>   22.499</td> <td> 0.000</td> <td>   16.784</td> <td>   19.996</td>\n",
       "</tr>\n",
       "<tr>\n",
       "  <th>DIS</th>   <td>    1.0916</td> <td>    0.188</td> <td>    5.795</td> <td> 0.000</td> <td>    0.722</td> <td>    1.462</td>\n",
       "</tr>\n",
       "</table>\n",
       "<table class=\"simpletable\">\n",
       "<tr>\n",
       "  <th>Omnibus:</th>       <td>139.779</td> <th>  Durbin-Watson:     </th> <td>   0.570</td>\n",
       "</tr>\n",
       "<tr>\n",
       "  <th>Prob(Omnibus):</th> <td> 0.000</td>  <th>  Jarque-Bera (JB):  </th> <td> 305.104</td>\n",
       "</tr>\n",
       "<tr>\n",
       "  <th>Skew:</th>          <td> 1.466</td>  <th>  Prob(JB):          </th> <td>5.59e-67</td>\n",
       "</tr>\n",
       "<tr>\n",
       "  <th>Kurtosis:</th>      <td> 5.424</td>  <th>  Cond. No.          </th> <td>    9.32</td>\n",
       "</tr>\n",
       "</table><br/><br/>Notes:<br/>[1] Standard Errors assume that the covariance matrix of the errors is correctly specified."
      ],
      "text/latex": [
       "\\begin{center}\n",
       "\\begin{tabular}{lclc}\n",
       "\\toprule\n",
       "\\textbf{Dep. Variable:}    &       MEDV       & \\textbf{  R-squared:         } &     0.062   \\\\\n",
       "\\textbf{Model:}            &       OLS        & \\textbf{  Adj. R-squared:    } &     0.061   \\\\\n",
       "\\textbf{Method:}           &  Least Squares   & \\textbf{  F-statistic:       } &     33.58   \\\\\n",
       "\\textbf{Date:}             & Sun, 22 Oct 2023 & \\textbf{  Prob (F-statistic):} &  1.21e-08   \\\\\n",
       "\\textbf{Time:}             &     20:12:10     & \\textbf{  Log-Likelihood:    } &   -1823.9   \\\\\n",
       "\\textbf{No. Observations:} &         506      & \\textbf{  AIC:               } &     3652.   \\\\\n",
       "\\textbf{Df Residuals:}     &         504      & \\textbf{  BIC:               } &     3660.   \\\\\n",
       "\\textbf{Df Model:}         &           1      & \\textbf{                     } &             \\\\\n",
       "\\textbf{Covariance Type:}  &    nonrobust     & \\textbf{                     } &             \\\\\n",
       "\\bottomrule\n",
       "\\end{tabular}\n",
       "\\begin{tabular}{lcccccc}\n",
       "               & \\textbf{coef} & \\textbf{std err} & \\textbf{t} & \\textbf{P$> |$t$|$} & \\textbf{[0.025} & \\textbf{0.975]}  \\\\\n",
       "\\midrule\n",
       "\\textbf{const} &      18.3901  &        0.817     &    22.499  &         0.000        &       16.784    &       19.996     \\\\\n",
       "\\textbf{DIS}   &       1.0916  &        0.188     &     5.795  &         0.000        &        0.722    &        1.462     \\\\\n",
       "\\bottomrule\n",
       "\\end{tabular}\n",
       "\\begin{tabular}{lclc}\n",
       "\\textbf{Omnibus:}       & 139.779 & \\textbf{  Durbin-Watson:     } &    0.570  \\\\\n",
       "\\textbf{Prob(Omnibus):} &   0.000 & \\textbf{  Jarque-Bera (JB):  } &  305.104  \\\\\n",
       "\\textbf{Skew:}          &   1.466 & \\textbf{  Prob(JB):          } & 5.59e-67  \\\\\n",
       "\\textbf{Kurtosis:}      &   5.424 & \\textbf{  Cond. No.          } &     9.32  \\\\\n",
       "\\bottomrule\n",
       "\\end{tabular}\n",
       "%\\caption{OLS Regression Results}\n",
       "\\end{center}\n",
       "\n",
       "Notes: \\newline\n",
       " [1] Standard Errors assume that the covariance matrix of the errors is correctly specified."
      ],
      "text/plain": [
       "<class 'statsmodels.iolib.summary.Summary'>\n",
       "\"\"\"\n",
       "                            OLS Regression Results                            \n",
       "==============================================================================\n",
       "Dep. Variable:                   MEDV   R-squared:                       0.062\n",
       "Model:                            OLS   Adj. R-squared:                  0.061\n",
       "Method:                 Least Squares   F-statistic:                     33.58\n",
       "Date:                Sun, 22 Oct 2023   Prob (F-statistic):           1.21e-08\n",
       "Time:                        20:12:10   Log-Likelihood:                -1823.9\n",
       "No. Observations:                 506   AIC:                             3652.\n",
       "Df Residuals:                     504   BIC:                             3660.\n",
       "Df Model:                           1                                         \n",
       "Covariance Type:            nonrobust                                         \n",
       "==============================================================================\n",
       "                 coef    std err          t      P>|t|      [0.025      0.975]\n",
       "------------------------------------------------------------------------------\n",
       "const         18.3901      0.817     22.499      0.000      16.784      19.996\n",
       "DIS            1.0916      0.188      5.795      0.000       0.722       1.462\n",
       "==============================================================================\n",
       "Omnibus:                      139.779   Durbin-Watson:                   0.570\n",
       "Prob(Omnibus):                  0.000   Jarque-Bera (JB):              305.104\n",
       "Skew:                           1.466   Prob(JB):                     5.59e-67\n",
       "Kurtosis:                       5.424   Cond. No.                         9.32\n",
       "==============================================================================\n",
       "\n",
       "Notes:\n",
       "[1] Standard Errors assume that the covariance matrix of the errors is correctly specified.\n",
       "\"\"\""
      ]
     },
     "execution_count": 72,
     "metadata": {},
     "output_type": "execute_result"
    }
   ],
   "source": [
    "X = boston_df['DIS']\n",
    "Y = boston_df['MEDV']\n",
    "X = sm.add_constant(X)\n",
    "\n",
    "model = sm.OLS(Y, X).fit()\n",
    "predictions = model.predict(X)\n",
    "\n",
    "model.summary()"
   ]
  },
  {
   "cell_type": "code",
   "execution_count": null,
   "id": "943344ef",
   "metadata": {},
   "outputs": [],
   "source": [
    "# Conclusion: Since the p-value < 0.05, we reject the Null hypothesis and\n",
    "# conclude that there exists a relationship between DIS and MEDV."
   ]
  }
 ],
 "metadata": {
  "kernelspec": {
   "display_name": "Python 3 (ipykernel)",
   "language": "python",
   "name": "python3"
  },
  "language_info": {
   "codemirror_mode": {
    "name": "ipython",
    "version": 3
   },
   "file_extension": ".py",
   "mimetype": "text/x-python",
   "name": "python",
   "nbconvert_exporter": "python",
   "pygments_lexer": "ipython3",
   "version": "3.11.4"
  }
 },
 "nbformat": 4,
 "nbformat_minor": 5
}
